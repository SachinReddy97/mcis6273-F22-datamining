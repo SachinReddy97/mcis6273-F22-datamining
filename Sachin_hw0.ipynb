{
 "cells": [
  {
   "cell_type": "code",
   "execution_count": null,
   "metadata": {},
   "outputs": [],
   "source": []
  },
  {
   "cell_type": "markdown",
   "metadata": {},
   "source": [
    "### Assignment Zero\n",
    "### Zotera UserID : SachinReddy97\n",
    "### Zotera Registered Email ID : sachinreddygee@gmail.com"
   ]
  },
  {
   "cell_type": "markdown",
   "metadata": {},
   "source": [
    "#### Q.1  List 3 things that you learned from this podcast?\n",
    "\n",
    "Overall the Podcast Talk Python was so much informative. These are the list of things I have learnt from the podcast :\n",
    "\n",
    "- Jupyter notebook has created a great impact over the data science field. The fact that there are over one million notebooks on Github itself tells how importatnt Jupyter notebooks have become\n",
    "\n",
    "- The name jupyter was created from the combination of Julia , Python and R. I think its cool to be coincidently named after biggest planet, and what actually jupyter notebook is right now.\n",
    "\n",
    "- Github platform proves you an open source of knowledge, use others notebooks and utilize in own way. Thats just incredible"
   ]
  },
  {
   "cell_type": "markdown",
   "metadata": {},
   "source": [
    "### Q. 2 What is your reaction to the podcast? Pick at least one point Adam brought up in the interview that you agree with and list your reason why? \n",
    "\n",
    "The podcast was very informative. He talked about various fields of application of Jupyter notebook, Github.\n",
    "\n",
    "one thing that I really agree with Adam that he said Jupyter notebook has proven its importance over last years. Adam said there are over a million notebooks only on github. I saw similar notebooks on Kaggle.com. This platform also uses the same jupyter notebook format and it has become a regular practice to use notebooks due to its vast applications. \n",
    "\n",
    "Notebooks can be handy when it comes to the detailed description of the script, written cell by cell. Each cell of code can be provided by detailed description, so that even after reading the code after years, one can easily understand all the steps done in the code. It becomes the most important advantage of using notebooks."
   ]
  },
  {
   "cell_type": "markdown",
   "metadata": {},
   "source": [
    "### Q. 3  After listening to the podcast , do you think you are more interested or less interested in learning from Jupyter notebooks on Github?\n",
    "\n",
    "    I am exited to work on Jupyter notebook on Github. Using Github the work done on the notebooks will be uploaded on profile simulteneously and at the end of the semester, all the codes will be available for other to see as the open source. Also, we can look at the assignments submitted by my fellow students and learn other's creative ways of solving assignments"
   ]
  },
  {
   "cell_type": "code",
   "execution_count": null,
   "metadata": {},
   "outputs": [],
   "source": []
  },
  {
   "cell_type": "code",
   "execution_count": null,
   "metadata": {},
   "outputs": [],
   "source": []
  }
 ],
 "metadata": {
  "kernelspec": {
   "display_name": "Python 3.10.5 64-bit",
   "language": "python",
   "name": "python3"
  },
  "language_info": {
   "codemirror_mode": {
    "name": "ipython",
    "version": 3
   },
   "file_extension": ".py",
   "mimetype": "text/x-python",
   "name": "python",
   "nbconvert_exporter": "python",
   "pygments_lexer": "ipython3",
   "version": "3.10.5"
  },
  "vscode": {
   "interpreter": {
    "hash": "aee8b7b246df8f9039afb4144a1f6fd8d2ca17a180786b69acc140d282b71a49"
   }
  }
 },
 "nbformat": 4,
 "nbformat_minor": 2
}
